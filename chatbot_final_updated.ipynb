{
 "cells": [
  {
   "cell_type": "markdown",
   "id": "585dbfd1",
   "metadata": {},
   "source": [
    "# BOtCH: Улучшенная версия чат-бота на Python\n",
    "\n",
    "Этот ноутбук демонстрирует улучшенную реализацию чат-бота с модульной архитектурой, логированием, тестами, CLI-демо, метриками и возможной практической привязкой к FAQ-сценарию."
   ]
  },
  {
   "cell_type": "markdown",
   "id": "06c8491a",
   "metadata": {},
   "source": [
    "## 1. Импорт библиотек и конфигурация логирования"
   ]
  },
  {
   "cell_type": "code",
   "execution_count": null,
   "id": "f47ecef4",
   "metadata": {},
   "outputs": [],
   "source": [
    "import logging\n",
    "from datetime import datetime\n",
    "import re\n",
    "import json\n",
    "from collections import Counter\n",
    "\n",
    "# Настройка логирования\n",
    "logging.basicConfig(\n",
    "    filename='botch_log.json',\n",
    "    level=logging.INFO,\n",
    "    format='%(message)s'\n",
    ")"
   ]
  },
  {
   "cell_type": "markdown",
   "id": "dea4aa24",
   "metadata": {},
   "source": [
    "## 2. Модуль логики чат-бота"
   ]
  },
  {
   "cell_type": "code",
   "execution_count": null,
   "id": "c4157e83",
   "metadata": {},
   "outputs": [],
   "source": [
    "class BotCH:\n",
    "    def __init__(self):\n",
    "        self.intents = {\n",
    "            'greeting': [r'привет', r'здравствуй', r'добрый день'],\n",
    "            'goodbye': [r'пока', r'до свидания'],\n",
    "            'thanks': [r'спасибо', r'благодарю'],\n",
    "            'howareyou': [r'как дела', r'как ты']\n",
    "        }\n",
    "        self.responses = {\n",
    "            'greeting': 'Привет! Чем могу помочь?',\n",
    "            'goodbye': 'До свидания!',\n",
    "            'thanks': 'Пожалуйста!',\n",
    "            'howareyou': 'У меня всё хорошо, спасибо за вопрос!'\n",
    "        }\n",
    "\n",
    "    def classify_intent(self, message):\n",
    "        for intent, patterns in self.intents.items():\n",
    "            for pattern in patterns:\n",
    "                if re.search(pattern, message, re.IGNORECASE):\n",
    "                    return intent\n",
    "        return 'unknown'\n",
    "\n",
    "    def get_response(self, message):\n",
    "        intent = self.classify_intent(message)\n",
    "        response = self.responses.get(intent, 'Извините, я не понимаю вас.')\n",
    "        self.log_interaction(message, intent, response)\n",
    "        return response\n",
    "\n",
    "    def log_interaction(self, message, intent, response):\n",
    "        log_entry = json.dumps({\n",
    "            'timestamp': datetime.now().isoformat(),\n",
    "            'message': message,\n",
    "            'intent': intent,\n",
    "            'response': response\n",
    "        }, ensure_ascii=False)\n",
    "        logging.info(log_entry)"
   ]
  },
  {
   "cell_type": "markdown",
   "id": "f63d967a",
   "metadata": {},
   "source": [
    "## 3. Пример CLI-сценария"
   ]
  },
  {
   "cell_type": "code",
   "execution_count": null,
   "id": "bb9f3e76",
   "metadata": {},
   "outputs": [],
   "source": [
    "def run_cli():\n",
    "    bot = BotCH()\n",
    "    print('BOtCH запущен. Введите сообщение или \"выход\" для завершения.')\n",
    "    while True:\n",
    "        user_input = input('Вы: ')\n",
    "        if user_input.lower() == 'выход':\n",
    "            print('BOtCH: До свидания!')\n",
    "            break\n",
    "        response = bot.get_response(user_input)\n",
    "        print('BOtCH:', response)\n",
    "\n",
    "# run_cli()  # Раскомментировать для запуска CLI"
   ]
  },
  {
   "cell_type": "markdown",
   "id": "11c586ae",
   "metadata": {},
   "source": [
    "## 4. Анализ логов: частотный разбор интентов"
   ]
  },
  {
   "cell_type": "code",
   "execution_count": null,
   "id": "d4ecc2c2",
   "metadata": {},
   "outputs": [],
   "source": [
    "def analyze_logs(log_file='botch_log.json'):\n",
    "    intents = []\n",
    "    with open(log_file, 'r', encoding='utf-8') as f:\n",
    "        for line in f:\n",
    "            try:\n",
    "                entry = json.loads(line)\n",
    "                intents.append(entry['intent'])\n",
    "            except json.JSONDecodeError:\n",
    "                continue\n",
    "    return Counter(intents)\n",
    "\n",
    "# print(analyze_logs())"
   ]
  },
  {
   "cell_type": "markdown",
   "id": "4e2bc712",
   "metadata": {},
   "source": [
    "## 5. Тестирование функций"
   ]
  },
  {
   "cell_type": "code",
   "execution_count": null,
   "id": "2d4aea83",
   "metadata": {},
   "outputs": [],
   "source": [
    "def test_classify_intent():\n",
    "    bot = BotCH()\n",
    "    assert bot.classify_intent('Привет!') == 'greeting'\n",
    "    assert bot.classify_intent('Спасибо большое') == 'thanks'\n",
    "    assert bot.classify_intent('Как дела?') == 'howareyou'\n",
    "    assert bot.classify_intent('До свидания') == 'goodbye'\n",
    "    assert bot.classify_intent('Что ты умеешь?') == 'unknown'\n",
    "    print('Все тесты пройдены.')\n",
    "\n",
    "# test_classify_intent()"
   ]
  },
  {
   "cell_type": "markdown",
   "id": "0319f691",
   "metadata": {},
   "source": [
    "## 6. Метрики и выводы"
   ]
  },
  {
   "cell_type": "code",
   "execution_count": null,
   "id": "b2d269cc",
   "metadata": {},
   "outputs": [],
   "source": [
    "# Оценка точности классификации\n",
    "true_cases = {\n",
    "    'Привет': 'greeting',\n",
    "    'Как ты?': 'howareyou',\n",
    "    'Спасибо за помощь': 'thanks',\n",
    "    'До встречи': 'goodbye',\n",
    "    'Что ты умеешь?': 'unknown'\n",
    "}\n",
    "\n",
    "bot = BotCH()\n",
    "correct = sum(1 for q, expected in true_cases.items() if bot.classify_intent(q) == expected)\n",
    "total = len(true_cases)\n",
    "print(f'Точность: {correct}/{total} ({correct / total * 100:.0f}%)')"
   ]
  },
  {
   "cell_type": "markdown",
   "id": "e3a5693f",
   "metadata": {},
   "source": [
    "## 7. Практическое применение: FAQ для студентов"
   ]
  },
  {
   "cell_type": "code",
   "execution_count": null,
   "id": "ec72bb9d",
   "metadata": {},
   "outputs": [],
   "source": [
    "faq_data = {\n",
    "    'где найти расписание': 'Расписание находится на сайте в разделе \"Образование\".',\n",
    "    'когда экзамен': 'Даты экзаменов указаны в расписании и в LMS.',\n",
    "    'как получить справку': 'Справку можно заказать через личный кабинет студента.'\n",
    "}\n",
    "\n",
    "class FAQBot(BotCH):\n",
    "    def get_response(self, message):\n",
    "        for question, answer in faq_data.items():\n",
    "            if question in message.lower():\n",
    "                self.log_interaction(message, 'faq', answer)\n",
    "                return answer\n",
    "        return super().get_response(message)\n",
    "\n",
    "# faq_bot = FAQBot()\n",
    "# print(faq_bot.get_response('Где найти расписание?'))"
   ]
  }
 ],
 "metadata": {},
 "nbformat": 4,
 "nbformat_minor": 5
}

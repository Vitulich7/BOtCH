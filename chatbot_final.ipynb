{
 "cells": [
  {
   "cell_type": "markdown",
   "id": "74721810",
   "metadata": {},
   "source": [
    "# 🤖 Финальный проект: Чат-бот на Python"
   ]
  },
  {
   "cell_type": "markdown",
   "id": "68937f56",
   "metadata": {},
   "source": [
    "\n",
    "## Цель проекта\n",
    "Разработать простого чат-бота, способного поддерживать диалог с пользователем. Основной акцент был сделан на применение правил и простой логики, с возможностью масштабирования под ML-модель.\n",
    "    "
   ]
  },
  {
   "cell_type": "markdown",
   "id": "0e820f0d",
   "metadata": {},
   "source": [
    "\n",
    "## Этапы проекта\n",
    "1. Постановка задачи\n",
    "2. Создание простой логики для ответов\n",
    "3. Улучшение с помощью регулярных выражений\n",
    "4. Эксперименты с HuggingFace-трансформером\n",
    "5. Оценка качества и логирование\n",
    "    "
   ]
  },
  {
   "cell_type": "code",
   "execution_count": null,
   "id": "a87a6cbe",
   "metadata": {},
   "outputs": [],
   "source": [
    "# Импорт библиотек\n",
    "import random\n",
    "import re\n",
    "from datetime import datetime\n"
   ]
  },
  {
   "cell_type": "code",
   "execution_count": null,
   "id": "a20b213e",
   "metadata": {},
   "outputs": [],
   "source": [
    "# Простая логика бота (правила)\n",
    "def rule_based_bot(user_input):\n",
    "    user_input = user_input.lower()\n",
    "    if \"привет\" in user_input:\n",
    "        return \"Привет! Чем могу помочь?\"\n",
    "    elif \"как дела\" in user_input:\n",
    "        return \"У меня всё хорошо! А у тебя?\"\n",
    "    elif \"пока\" in user_input:\n",
    "        return \"До свидания! Хорошего дня!\"\n",
    "    else:\n",
    "        return \"Я пока не знаю, как на это ответить.\"\n"
   ]
  },
  {
   "cell_type": "code",
   "execution_count": null,
   "id": "1488ee6e",
   "metadata": {},
   "outputs": [],
   "source": [
    "# Тестирование простой логики\n",
    "print(rule_based_bot(\"Привет\"))\n",
    "print(rule_based_bot(\"Как дела?\"))\n",
    "print(rule_based_bot(\"Пока\"))\n",
    "print(rule_based_bot(\"Что ты умеешь?\"))\n"
   ]
  },
  {
   "cell_type": "markdown",
   "id": "0bc2cbe0",
   "metadata": {},
   "source": [
    "\n",
    "## Логирование\n",
    "Для отслеживания запросов и ответов используется лог-файл (`logs/chatbot_log.txt`).\n",
    "    "
   ]
  },
  {
   "cell_type": "code",
   "execution_count": null,
   "id": "b1d7e47f",
   "metadata": {},
   "outputs": [],
   "source": [
    "# Функция с логированием\n",
    "def bot_with_logging(user_input, logfile=\"logs/chatbot_log.txt\"):\n",
    "    response = rule_based_bot(user_input)\n",
    "    with open(logfile, \"a\", encoding=\"utf-8\") as log:\n",
    "        log.write(f\"[{datetime.now()}] USER: {user_input}\\n\")\n",
    "        log.write(f\"[{datetime.now()}] BOT: {response}\\n\\n\")\n",
    "    return response\n"
   ]
  },
  {
   "cell_type": "code",
   "execution_count": null,
   "id": "5fd129ad",
   "metadata": {},
   "outputs": [],
   "source": [
    "# Пример работы\n",
    "bot_with_logging(\"Привет\")"
   ]
  },
  {
   "cell_type": "markdown",
   "id": "ecddccba",
   "metadata": {},
   "source": [
    "\n",
    "## Выводы\n",
    "- Простая логика работает на ограниченном наборе фраз\n",
    "- Добавление ML-модели (например, `DialoGPT`) — следующий шаг\n",
    "- Логирование помогает отслеживать работу бота\n",
    "- В будущем — реализация интерактивного интерфейса\n"
   ]
  }
 ],
 "metadata": {},
 "nbformat": 4,
 "nbformat_minor": 5
}
